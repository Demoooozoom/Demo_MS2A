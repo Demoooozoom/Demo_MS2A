{
 "cells": [
  {
   "cell_type": "code",
   "execution_count": 1,
   "id": "f1eb7b20",
   "metadata": {},
   "outputs": [],
   "source": [
    "import os\n",
    "import network\n",
    "import torch\n",
    "from sklearn.metrics import confusion_matrix\n",
    "import numpy as np\n",
    "from data_list import ImageList, ImageList_idx, ImageList_idx_aug, ImageList_idx_aug_fix\n",
    "from torch.utils.data import DataLoader\n",
    "from torchvision import transforms\n",
    "import argparse\n",
    "import time"
   ]
  },
  {
   "cell_type": "code",
   "execution_count": 2,
   "id": "47cf1aa3",
   "metadata": {},
   "outputs": [],
   "source": [
    "def image_test(resize_size=256, crop_size=224, alexnet=False):\n",
    "    ## transform\n",
    "  if not alexnet:\n",
    "    normalize = transforms.Normalize(mean=[0.485, 0.456, 0.406],\n",
    "                                   std=[0.229, 0.224, 0.225])\n",
    "  #else:\n",
    "    #normalize = Normalize(meanfile='./ilsvrc_2012_mean.npy')\n",
    "  return  transforms.Compose([\n",
    "        transforms.Resize((resize_size, resize_size)),\n",
    "        transforms.CenterCrop(crop_size),\n",
    "        transforms.ToTensor(),\n",
    "        normalize\n",
    "    ])"
   ]
  },
  {
   "cell_type": "code",
   "execution_count": 3,
   "id": "aee82602",
   "metadata": {},
   "outputs": [],
   "source": [
    "def data_load(t_dset_path,batch_size): \n",
    "    ## prepare data\n",
    "    dsets = {}\n",
    "    dset_loaders = {}\n",
    "    train_bs = batch_size\n",
    "    txt_tar = open(t_dset_path).readlines()\n",
    "    dsets[\"test\"] = ImageList_idx(txt_tar, transform=image_test())\n",
    "    dset_loaders[\"test\"] = DataLoader(dsets[\"test\"], batch_size=train_bs*3, shuffle=False, num_workers=4, drop_last=False)\n",
    "    return dset_loaders"
   ]
  },
  {
   "cell_type": "code",
   "execution_count": 4,
   "id": "0dd7d9a1",
   "metadata": {},
   "outputs": [],
   "source": [
    "def net_load(backbone,class_num,bottleneck_dim,path_F,path_B,path_C):\n",
    "    ## load network\n",
    "    netF = network.ResBase(res_name=backbone).cuda()\n",
    "    netB = network.feat_bootleneck(type='bn', feature_dim=netF.in_features, bottleneck_dim=bottleneck_dim).cuda()\n",
    "    netC = network.feat_classifier(type='wn', class_num = class_num, bottleneck_dim=bottleneck_dim).cuda()\n",
    "    modelpath = path_F   \n",
    "    netF.load_state_dict(torch.load(modelpath))\n",
    "    modelpath = path_B\n",
    "    netB.load_state_dict(torch.load(modelpath))\n",
    "    modelpath = path_C   \n",
    "    netC.load_state_dict(torch.load(modelpath))\n",
    "    return netF,netB,netC"
   ]
  },
  {
   "cell_type": "code",
   "execution_count": 5,
   "id": "1547f88f",
   "metadata": {},
   "outputs": [],
   "source": [
    "def cal_acc(loader, netF, netB, netC):\n",
    "    ## calculate accuracy\n",
    "    start_test = True\n",
    "    with torch.no_grad():\n",
    "        iter_test = iter(loader)\n",
    "        for i in range(len(loader)):\n",
    "            data = next(iter_test)\n",
    "            inputs = data[0]\n",
    "            labels = data[1]\n",
    "            inputs = inputs.cuda()\n",
    "            outputs = netC(netB(netF(inputs)))\n",
    "            if start_test:\n",
    "                all_output = outputs.float().cpu()\n",
    "                all_label = labels.float()\n",
    "                start_test = False\n",
    "            else:\n",
    "                all_output = torch.cat((all_output, outputs.float().cpu()), 0)\n",
    "                all_label = torch.cat((all_label, labels.float()), 0)\n",
    "    _, predict = torch.max(all_output, 1)\n",
    "    accuracy = torch.sum(torch.squeeze(predict).float() == all_label).item() / float(all_label.size()[0])\n",
    "    return accuracy*100"
   ]
  },
  {
   "cell_type": "code",
   "execution_count": 6,
   "id": "72a3d82f",
   "metadata": {},
   "outputs": [
    {
     "name": "stderr",
     "output_type": "stream",
     "text": [
      "/home/imi/anaconda3/envs/sfa/lib/python3.7/site-packages/torchvision/models/_utils.py:209: UserWarning: The parameter 'pretrained' is deprecated since 0.13 and may be removed in the future, please use 'weights' instead.\n",
      "  f\"The parameter '{pretrained_param}' is deprecated since 0.13 and may be removed in the future, \"\n",
      "/home/imi/anaconda3/envs/sfa/lib/python3.7/site-packages/torchvision/models/_utils.py:223: UserWarning: Arguments other than a weight enum or `None` for 'weights' are deprecated since 0.13 and may be removed in the future. The current behavior is equivalent to passing `weights=ResNet50_Weights.IMAGENET1K_V1`. You can also use `weights=ResNet50_Weights.DEFAULT` to get the most up-to-date weights.\n",
      "  warnings.warn(msg)\n"
     ]
    },
    {
     "data": {
      "text/plain": [
       "feat_classifier(\n",
       "  (fc): Linear(in_features=512, out_features=65, bias=True)\n",
       ")"
      ]
     },
     "execution_count": 6,
     "metadata": {},
     "output_type": "execute_result"
    }
   ],
   "source": [
    "path_f = './Demo-model-transfer-C2A/target_F_par_0.6.pt'\n",
    "path_b = './Demo-model-transfer-C2A/target_B_par_0.6.pt'\n",
    "path_c = './Demo-model-transfer-C2A/target_C_par_0.6.pt'\n",
    "netF,netB,netC = net_load('resnet50',65,512,path_f,path_b,path_c)\n",
    "path_target = './data/office-home/Art_list.txt'\n",
    "dset_loaders = data_load(path_target,64)\n",
    "netF.eval()\n",
    "netB.eval()\n",
    "netC.eval()"
   ]
  },
  {
   "cell_type": "code",
   "execution_count": 7,
   "id": "397afe36",
   "metadata": {},
   "outputs": [
    {
     "data": {
      "text/plain": [
       "79.23362175525341"
      ]
     },
     "execution_count": 7,
     "metadata": {},
     "output_type": "execute_result"
    }
   ],
   "source": [
    "acc_s_te = cal_acc(dset_loaders['test'], netF, netB, netC)\n",
    "acc_s_te"
   ]
  }
 ],
 "metadata": {
  "kernelspec": {
   "display_name": "Python 3 (ipykernel)",
   "language": "python",
   "name": "python3"
  },
  "language_info": {
   "codemirror_mode": {
    "name": "ipython",
    "version": 3
   },
   "file_extension": ".py",
   "mimetype": "text/x-python",
   "name": "python",
   "nbconvert_exporter": "python",
   "pygments_lexer": "ipython3",
   "version": "3.7.16"
  }
 },
 "nbformat": 4,
 "nbformat_minor": 5
}
